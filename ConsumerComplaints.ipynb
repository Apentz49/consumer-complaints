{
 "cells": [
  {
   "cell_type": "markdown",
   "metadata": {},
   "source": [
    "#Consumer Complaints"
   ]
  },
  {
   "cell_type": "code",
   "execution_count": null,
   "metadata": {
    "collapsed": true
   },
   "outputs": [],
   "source": [
    "#Calculate and chart:\n",
    "\n",
    "# Number of complaints by month (leave off the current month)\n",
    "\n",
    "# Number of complaints by product\n",
    "\n",
    "# Number of complaints by company (top 10 companies only)\n",
    "\n",
    "# Number of complaints by company response\n",
    "\n",
    "# Mean number of complaints by day of week\n",
    "\n",
    "# Any other insights you find interesting\n",
    "\n",
    "# Write up a summary of what you found from each chart you made."
   ]
  },
  {
   "cell_type": "code",
   "execution_count": 64,
   "metadata": {
    "collapsed": false
   },
   "outputs": [],
   "source": [
    "import pandas as pd\n",
    "import numpy as np\n",
    "import matplotlib.pyplot as plt\n",
    "import seaborn as sns"
   ]
  },
  {
   "cell_type": "code",
   "execution_count": 65,
   "metadata": {
    "collapsed": true
   },
   "outputs": [],
   "source": [
    "%matplotlib inline"
   ]
  },
  {
   "cell_type": "code",
   "execution_count": 194,
   "metadata": {
    "collapsed": false
   },
   "outputs": [],
   "source": [
    "complaints = pd.read_csv(\"Consumer_Complaints.csv\", dtype=object)"
   ]
  },
  {
   "cell_type": "code",
   "execution_count": 195,
   "metadata": {
    "collapsed": true
   },
   "outputs": [],
   "source": [
    "date_received = complaints[[\"Date received\"]]"
   ]
  },
  {
   "cell_type": "code",
   "execution_count": 196,
   "metadata": {
    "collapsed": false
   },
   "outputs": [],
   "source": [
    "complaints[\"Date recevied\"] = pd.to_datetime(complaints[\"Date received\"])"
   ]
  },
  {
   "cell_type": "code",
   "execution_count": 197,
   "metadata": {
    "collapsed": true
   },
   "outputs": [],
   "source": [
    "complaints.index = pd.to_datetime(complaints[\"Date received\"])"
   ]
  },
  {
   "cell_type": "code",
   "execution_count": 134,
   "metadata": {
    "collapsed": false
   },
   "outputs": [
    {
     "name": "stdout",
     "output_type": "stream",
     "text": [
      "<class 'pandas.core.frame.DataFrame'>\n",
      "DatetimeIndex: 409400 entries, 2015-06-22 to 2011-12-01\n",
      "Data columns (total 15 columns):\n",
      "Complaint ID            409400 non-null object\n",
      "Product                 409400 non-null object\n",
      "Sub-product             280534 non-null object\n",
      "Issue                   409394 non-null object\n",
      "Sub-issue               128913 non-null object\n",
      "State                   403759 non-null object\n",
      "ZIP code                404783 non-null object\n",
      "Submitted via           409400 non-null object\n",
      "Date received           409400 non-null object\n",
      "Date sent to company    409400 non-null object\n",
      "Company                 409400 non-null object\n",
      "Company response        409400 non-null object\n",
      "Timely response?        409400 non-null object\n",
      "Consumer disputed?      377841 non-null object\n",
      "Date recevied           409400 non-null datetime64[ns]\n",
      "dtypes: datetime64[ns](1), object(14)\n",
      "memory usage: 50.0+ MB\n"
     ]
    }
   ],
   "source": [
    "complaints.info()"
   ]
  },
  {
   "cell_type": "markdown",
   "metadata": {},
   "source": [
    "#Number of Complaints by Month"
   ]
  },
  {
   "cell_type": "code",
   "execution_count": 167,
   "metadata": {
    "collapsed": false
   },
   "outputs": [
    {
     "data": {
      "text/plain": [
       "<matplotlib.axes._subplots.AxesSubplot at 0x13c34e748>"
      ]
     },
     "execution_count": 167,
     "metadata": {},
     "output_type": "execute_result"
    },
    {
     "data": {
      "image/png": "[encoded data removed]",
      "text/plain": [
       "<matplotlib.figure.Figure at 0x1417b5a90>"
      ]
     },
     "metadata": {},
     "output_type": "display_data"
    }
   ],
   "source": [
    "complaints[['Date received']].resample('M', how= \"count\").plot()"
   ]
  },
  {
   "cell_type": "code",
   "execution_count": 191,
   "metadata": {
    "collapsed": false
   },
   "outputs": [],
   "source": [
    "complaints_product = complaints.groupby( [\"Product\"] )"
   ]
  },
  {
   "cell_type": "code",
   "execution_count": 203,
   "metadata": {
    "collapsed": false
   },
   "outputs": [
    {
     "data": {
      "text/plain": [
       "<bound method Series.resample of Date received\n",
       "2015-06-22              Consumer loan\n",
       "2015-06-22            Debt collection\n",
       "2015-06-22                   Mortgage\n",
       "2015-06-22            Debt collection\n",
       "2015-06-22            Debt collection\n",
       "2015-06-22            Debt collection\n",
       "2015-06-22            Debt collection\n",
       "2015-06-22            Debt collection\n",
       "2015-06-22              Consumer loan\n",
       "2015-06-22            Debt collection\n",
       "2015-06-22            Debt collection\n",
       "2015-06-22            Money transfers\n",
       "2015-06-21            Debt collection\n",
       "2015-06-21            Debt collection\n",
       "2015-06-21           Credit reporting\n",
       "2015-06-21           Credit reporting\n",
       "2015-06-21                   Mortgage\n",
       "2015-06-21           Credit reporting\n",
       "2015-06-21           Credit reporting\n",
       "2015-06-21    Bank account or service\n",
       "2015-06-21           Credit reporting\n",
       "2015-06-21            Debt collection\n",
       "2015-06-21            Debt collection\n",
       "2015-06-21           Credit reporting\n",
       "2015-06-21            Debt collection\n",
       "2015-06-21                   Mortgage\n",
       "2015-06-21    Bank account or service\n",
       "2015-06-21            Debt collection\n",
       "2015-06-20            Debt collection\n",
       "2015-06-20           Credit reporting\n",
       "                       ...           \n",
       "2011-12-01                Credit card\n",
       "2011-12-01                   Mortgage\n",
       "2011-12-01                Credit card\n",
       "2011-12-01                   Mortgage\n",
       "2011-12-01                Credit card\n",
       "2011-12-01                Credit card\n",
       "2011-12-01                Credit card\n",
       "2011-12-01                Credit card\n",
       "2011-12-01                   Mortgage\n",
       "2011-12-01                   Mortgage\n",
       "2011-12-01                Credit card\n",
       "2011-12-01                Credit card\n",
       "2011-12-01                   Mortgage\n",
       "2011-12-01                Credit card\n",
       "2011-12-01                   Mortgage\n",
       "2011-12-01                   Mortgage\n",
       "2011-12-01                   Mortgage\n",
       "2011-12-01                Credit card\n",
       "2011-12-01                   Mortgage\n",
       "2011-12-01                Credit card\n",
       "2011-12-01                Credit card\n",
       "2011-12-01                   Mortgage\n",
       "2011-12-01                Credit card\n",
       "2011-12-01                   Mortgage\n",
       "2011-12-01                Credit card\n",
       "2011-12-01                Credit card\n",
       "2011-12-01                Credit card\n",
       "2011-12-01                Credit card\n",
       "2011-12-01                Credit card\n",
       "2011-12-01                Credit card\n",
       "Name: Product, dtype: object>"
      ]
     },
     "execution_count": 203,
     "metadata": {},
     "output_type": "execute_result"
    }
   ],
   "source": [
    "complaints.Product.resample"
   ]
  },
  {
   "cell_type": "code",
   "execution_count": null,
   "metadata": {
    "collapsed": true
   },
   "outputs": [],
   "source": [
    "complaints_product.resample()"
   ]
  },
  {
   "cell_type": "code",
   "execution_count": 158,
   "metadata": {
    "collapsed": false
   },
   "outputs": [
    {
     "name": "stdout",
     "output_type": "stream",
     "text": [
      "<class 'pandas.core.frame.DataFrame'>\n",
      "DatetimeIndex: 409400 entries, 2015-06-22 to 2011-12-01\n",
      "Data columns (total 15 columns):\n",
      "Complaint ID            409400 non-null object\n",
      "Product                 409400 non-null object\n",
      "Sub-product             280534 non-null object\n",
      "Issue                   409394 non-null object\n",
      "Sub-issue               128913 non-null object\n",
      "State                   403759 non-null object\n",
      "ZIP code                404783 non-null object\n",
      "Submitted via           409400 non-null object\n",
      "Date received           409400 non-null object\n",
      "Date sent to company    409400 non-null object\n",
      "Company                 409400 non-null object\n",
      "Company response        409400 non-null object\n",
      "Timely response?        409400 non-null object\n",
      "Consumer disputed?      377841 non-null object\n",
      "Date recevied           409400 non-null datetime64[ns]\n",
      "dtypes: datetime64[ns](1), object(14)\n",
      "memory usage: 50.0+ MB\n"
     ]
    }
   ],
   "source": [
    "complaints.info()"
   ]
  },
  {
   "cell_type": "code",
   "execution_count": null,
   "metadata": {
    "collapsed": true
   },
   "outputs": [],
   "source": []
  }
 ],
 "metadata": {
  "kernelspec": {
   "display_name": "Python 3",
   "language": "python",
   "name": "python3"
  },
  "language_info": {
   "codemirror_mode": {
    "name": "ipython",
    "version": 3
   },
   "file_extension": ".py",
   "mimetype": "text/x-python",
   "name": "python",
   "nbconvert_exporter": "python",
   "pygments_lexer": "ipython3",
   "version": "3.4.3"
  }
 },
 "nbformat": 4,
 "nbformat_minor": 0
}
